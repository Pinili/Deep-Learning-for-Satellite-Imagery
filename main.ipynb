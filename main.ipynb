{
  "nbformat": 4,
  "nbformat_minor": 0,
  "metadata": {
    "colab": {
      "name": "main.ipynb",
      "version": "0.3.2",
      "provenance": [],
      "collapsed_sections": [],
      "include_colab_link": true
    },
    "kernelspec": {
      "name": "python3",
      "display_name": "Python 3"
    },
    "accelerator": "GPU"
  },
  "cells": [
    {
      "cell_type": "markdown",
      "metadata": {
        "id": "view-in-github",
        "colab_type": "text"
      },
      "source": [
        "<a href=\"https://colab.research.google.com/github/Pinili/Deep-Learning-for-Satellite-Imagery/blob/master/main.ipynb\" target=\"_parent\"><img src=\"https://colab.research.google.com/assets/colab-badge.svg\" alt=\"Open In Colab\"/></a>"
      ]
    },
    {
      "metadata": {
        "id": "p1T-4PKl3aiy",
        "colab_type": "text"
      },
      "cell_type": "markdown",
      "source": [
        "# Automated IAS identification approach using a Machine Learning approach\n",
        "\n",
        "(Invasive alien species = IAS)\n",
        "\n",
        "Created by Justin Baradi\n",
        "\n",
        "This is an independent thesis-project to classify <i>Rhamnus cathartica</i> using transfer learning in Convolutional Neural Networks (CNN).\n",
        "\n",
        "All coding dependencies and datasets in this project is published under UWSpace with the original paper titled:\n",
        "<br>__Identification of Invasive Plant Species using a Machine Learning approach__. "
      ]
    },
    {
      "metadata": {
        "id": "WQIyrANcy_fh",
        "colab_type": "text"
      },
      "cell_type": "markdown",
      "source": [
        "\n",
        "\n",
        "---\n",
        "\n",
        "This Jupyter notebook is the one used on Google Colab to process the CNN model. Feel free to download and edit this one. If this helped you in anyway, please consider mentioning me in your modified version of this file, or citing me from my thesis.\n",
        "\n",
        "This is test ______ with these parameters:\n",
        "*   Bands: 4 8 11\n",
        "*   Epochs = 100\n",
        "*   Size = 6\n",
        "*   Full dataset\n",
        "*   Test on images from November\n",
        "\n",
        "Other notes for this test:\n",
        "*   **Improved the image count to 500, except for *Rhamnus cathartica* **\n",
        "*   Added more test files from November\n",
        "*   Changed transforms to include flips (both horizontal and vertical)\n",
        "*   Fixed dataset to include herbs and crops\n",
        "*   Contains both types of crops (annual and perennial) as summer season should have no effect\n",
        "*   Change size = 6 to size (6, 6) to squish image instead\n",
        "*   Added notes\n",
        "\n",
        "\n"
      ]
    },
    {
      "metadata": {
        "id": "f9MkEN-awSnz",
        "colab_type": "code",
        "colab": {}
      },
      "cell_type": "code",
      "source": [
        "## saves data on Google Drive + links to datasets\n",
        "from google.colab import drive\n",
        "drive.mount('/content/gdrive', force_remount=True)\n",
        "root_dir = \"/content/gdrive/My Drive/\"\n",
        "base_dir = root_dir + 'fastai-v3/'"
      ],
      "execution_count": 0,
      "outputs": []
    },
    {
      "metadata": {
        "id": "goqXWghz38l0",
        "colab_type": "code",
        "colab": {}
      },
      "cell_type": "code",
      "source": [
        "## install latest version, but will cause conflicting import errors with old fastai versions\n",
        " !curl -s https://course.fast.ai/setup/colab | bash\n",
        "\n",
        "## uncomment to install old version of fastai\n",
        "## !pip install fastai==0.7.0\n",
        "## !pip install torchtext==0.2.3\n"
      ],
      "execution_count": 0,
      "outputs": []
    },
    {
      "metadata": {
        "id": "-AA4-bP4FJM8",
        "colab_type": "code",
        "colab": {}
      },
      "cell_type": "code",
      "source": [
        "## install extra dependencies\n",
        "!pip install rasterio    #used for transform images into JPG format, when needed, and select bands\n",
        "!pip install sat-search  #used to easily obtain Sentinel-2A data - Link: https://github.com/sat-utils\n",
        "\n",
        "## install GDAL\n",
        "!apt install gdal-bin python-gdal python3-gdal "
      ],
      "execution_count": 0,
      "outputs": []
    },
    {
      "metadata": {
        "id": "m9tDeTQH3ai8",
        "colab_type": "code",
        "colab": {}
      },
      "cell_type": "code",
      "source": [
        "%reload_ext autoreload\n",
        "%autoreload 2\n",
        "%matplotlib inline"
      ],
      "execution_count": 0,
      "outputs": []
    },
    {
      "metadata": {
        "id": "csqNSVuR3ajR",
        "colab_type": "code",
        "colab": {}
      },
      "cell_type": "code",
      "source": [
        "## uncomment below to import fastai v0.7 packages instead\n",
        "## from fastai.imports import *\n",
        "## from fastai.conv_learner import *\n",
        "## from fastai.model import *\n",
        "## from fastai.plots import *\n",
        "\n",
        "\n",
        "## import fastai v1 packages needed for image classification\n",
        "from fastai.vision import *\n",
        "from fastai.metrics import error_rate\n",
        "\n",
        "## import rasterio + plotting\n",
        "import rasterio\n",
        "from rasterio import plot\n",
        "import matplotlib.pyplot as plt\n",
        "\n",
        "## import numpy\n",
        "import numpy as np\n",
        "\n",
        "## import GDAL\n",
        "import gdal \n",
        "\n",
        "# import callbacks for training data\n",
        "from fastai.callbacks import *\n",
        "\n",
        "# histogram import via rasterio\n",
        "from rasterio.plot import show_hist\n",
        "\n",
        "# progress bar\n",
        "from tqdm import tqdm"
      ],
      "execution_count": 0,
      "outputs": []
    },
    {
      "metadata": {
        "id": "BGnEXTRhqiqs",
        "colab_type": "code",
        "colab": {}
      },
      "cell_type": "code",
      "source": [
        "# show environment details\n",
        "from fastai.utils.collect_env import *\n",
        "show_install(True)"
      ],
      "execution_count": 0,
      "outputs": []
    },
    {
      "metadata": {
        "id": "irxDmmKzGB41",
        "colab_type": "code",
        "colab": {}
      },
      "cell_type": "code",
      "source": [
        "## list files and folders in the Google Drive connected\n",
        "#!ls \"/content/gdrive/My Drive\"\n"
      ],
      "execution_count": 0,
      "outputs": []
    },
    {
      "metadata": {
        "id": "7MnTYvWWGHN0",
        "colab_type": "code",
        "colab": {}
      },
      "cell_type": "code",
      "source": [
        "## set main folder to the variable PATH as type Path\n",
        "PATH = Path(base_dir + 'GEOG490data/')"
      ],
      "execution_count": 0,
      "outputs": []
    },
    {
      "metadata": {
        "id": "U3yEJPZvtVi3",
        "colab_type": "text"
      },
      "cell_type": "markdown",
      "source": [
        "## **Preprocessing**"
      ]
    },
    {
      "metadata": {
        "id": "jDj8tPFpu94F",
        "colab_type": "text"
      },
      "cell_type": "markdown",
      "source": [
        "#### Convert images to three selected bands and to .jpg format\n",
        "bands 4, 8, 11 were selected"
      ]
    },
    {
      "metadata": {
        "id": "keJMttH6vNeK",
        "colab_type": "code",
        "colab": {}
      },
      "cell_type": "code",
      "source": [
        "#note: band 12 is actually band 11, because of band 8A\n",
        "#extract input folder data and class names\n",
        "input_path = PATH/'input'\n",
        "in_classes = [f for f in list(input_path.iterdir())]\n",
        "\n",
        "#create new class directories in training folder (uncomment to create)\n",
        "for i in tqdm(in_classes, desc=\"Creating directories for training\"):\n",
        "  if not os.path.isdir(Path(PATH/'train'/os.path.basename(i))):\n",
        "    Path(PATH/'train'/os.path.basename(i)).mkdir(parents=True, exist_ok=False)\n",
        "\n",
        "#convert Sentinel 13 bands .tiff files to RGB\n",
        "for i in in_classes:\n",
        "  in_files = list(i.iterdir())\n",
        "  for f in tqdm(in_files, desc=\"Class - \" + str(os.path.basename(i))):\n",
        "    out_class = os.path.basename(i)\n",
        "    out_name = os.path.splitext(os.path.basename(f))[0]\n",
        "    os.environ['f_in'] = str(f)\n",
        "    os.environ['f_out'] = str(PATH/'train'/out_class/out_name)\n",
        "    if not Path(str(PATH/'train'/out_class/out_name) + \".jpg\").is_file(): # dont convert the image if it already exists\n",
        "      !gdal_translate -of JPEG -ot Byte -scale -b 4 -b 8 -b 12 \"$f_in\" \"$f_out\".jpg > RGB_out.log 2> /dev/null\n",
        "      #print(\"Converted: \" + out_name)"
      ],
      "execution_count": 0,
      "outputs": []
    },
    {
      "metadata": {
        "id": "SrSPHjYm3ajs",
        "colab_type": "text"
      },
      "cell_type": "markdown",
      "source": [
        "## Visualization"
      ]
    },
    {
      "metadata": {
        "id": "HZljyTRA3ajx",
        "colab_type": "text"
      },
      "cell_type": "markdown",
      "source": [
        "#### Classes and Size"
      ]
    },
    {
      "metadata": {
        "id": "Qcj46tae3aj0",
        "colab_type": "code",
        "colab": {}
      },
      "cell_type": "code",
      "source": [
        "#extract training data and class names\n",
        "train_path = PATH/'train'\n",
        "classes = [str(f).split('/')[-1] for f in list(train_path.iterdir())]\n",
        "\n",
        "files = []\n",
        "img_files = []\n",
        "classes_num = {}\n",
        "for i in classes:\n",
        "    img_count = 0\n",
        "    paths = train_path/i\n",
        "    files.append(list(paths.iterdir())[0])\n",
        "    for file in os.listdir(paths):\n",
        "        if file.endswith(\".jpg\"):\n",
        "            img_files.append(os.path.join(paths, file))\n",
        "            img_count += 1\n",
        "    classes_num[i] = img_count\n",
        "    print(f'{i} class has ' + str(classes_num[i]))\n",
        "\n",
        "    \n",
        "plt.figure(figsize=(16,6))\n",
        "plt.bar(classes_num.keys(), classes_num.values(), color='g')\n",
        "plt.title('Land Use Classes & Size', fontsize=16, fontweight='bold')\n",
        "plt.xlabel('Classes', fontsize=14)\n",
        "plt.ylabel('Size', fontsize=14)\n",
        "plt.tight_layout()\n",
        "plt.savefig(PATH/'class_bargraph.jpg')"
      ],
      "execution_count": 0,
      "outputs": []
    },
    {
      "metadata": {
        "id": "wplHvbXpEjJ7",
        "colab_type": "code",
        "colab": {}
      },
      "cell_type": "code",
      "source": [
        "temp_dataset = rasterio.open(files[0])\n",
        "temp_dataset.indexes"
      ],
      "execution_count": 0,
      "outputs": []
    },
    {
      "metadata": {
        "id": "rRjxODHF3akG",
        "colab_type": "text"
      },
      "cell_type": "markdown",
      "source": [
        "#### Images"
      ]
    },
    {
      "metadata": {
        "id": "GMhLSseI3akJ",
        "colab_type": "code",
        "colab": {}
      },
      "cell_type": "code",
      "source": [
        "fig = plt.figure(figsize=(12,10))\n",
        "\n",
        "# Open the file:\n",
        "#fo = rasterio.open(files[0])\n",
        "\n",
        "# Normalize bands into 0.0 - 1.0 scale\n",
        "def normalize(array):\n",
        "    array_min, array_max = array.min(), array.max()\n",
        "    return ((array - array_min)/(array_max - array_min))\n",
        "\n",
        "def raster_to_RGB(raster):\n",
        "  # Convert to numpy arrays\n",
        "  red = raster.read(1)\n",
        "  green = raster.read(2)\n",
        "  blue = raster.read(3)\n",
        "  # Normalize band DN\n",
        "  redn = normalize(red)\n",
        "  greenn = normalize(green)\n",
        "  bluen = normalize(blue)\n",
        "  # Stack bands\n",
        "  return np.dstack((redn, greenn, bluen))\n",
        "\n",
        "\n",
        "ax1 = plt.subplot(331);plt.axis('off');plt.imshow(raster_to_RGB(rasterio.open(files[0])));ax1.set_title(classes[0], fontsize=14, fontweight='bold')\n",
        "ax2 = plt.subplot(332);plt.axis('off');plt.imshow(raster_to_RGB(rasterio.open(files[1])));ax2.set_title(classes[1], fontsize=14, fontweight='bold')\n",
        "ax3 = plt.subplot(333);plt.axis('off');plt.imshow(raster_to_RGB(rasterio.open(files[2])));ax3.set_title(classes[2], fontsize=14, fontweight='bold')\n",
        "\n",
        "ax1 = plt.subplot(334);plt.axis('off');plt.imshow(raster_to_RGB(rasterio.open(files[3])));ax1.set_title(classes[3], fontsize=14, fontweight='bold')\n",
        "ax2 = plt.subplot(335);plt.axis('off');plt.imshow(raster_to_RGB(rasterio.open(files[4])));ax2.set_title(classes[4], fontsize=14, fontweight='bold')\n",
        "ax3 = plt.subplot(336);plt.axis('off');plt.imshow(raster_to_RGB(rasterio.open(files[5])));ax3.set_title(classes[5], fontsize=14, fontweight='bold')\n",
        "\n",
        "ax1 = plt.subplot(337);plt.axis('off');plt.imshow(raster_to_RGB(rasterio.open(files[6])));ax1.set_title(classes[6], fontsize=14, fontweight='bold')\n",
        "ax2 = plt.subplot(338);plt.axis('off');plt.imshow(raster_to_RGB(rasterio.open(files[7])));ax2.set_title(classes[7], fontsize=14, fontweight='bold')\n",
        "ax3 = plt.subplot(339);plt.axis('off');plt.imshow(raster_to_RGB(rasterio.open(files[8])));ax3.set_title(classes[8], fontsize=14, fontweight='bold')\n",
        "\n",
        "plt.tight_layout()\n",
        "plt.savefig(PATH/'class_sampleimg.jpg')"
      ],
      "execution_count": 0,
      "outputs": []
    },
    {
      "metadata": {
        "id": "FkFmpqMwEj0O",
        "colab_type": "text"
      },
      "cell_type": "markdown",
      "source": [
        "#### Histogram of Rhamnus Cathartica"
      ]
    },
    {
      "metadata": {
        "id": "J2oVjLKQVZcX",
        "colab_type": "code",
        "colab": {}
      },
      "cell_type": "code",
      "source": [
        "#convert to numpy arrays\n",
        "raster_hist = rasterio.open(files[3])\n",
        "print(\"File: \" + str(files[3]))\n",
        "hist_stack = []\n",
        "hist_stack.append(raster_hist.read(1))\n",
        "hist_stack.append(raster_hist.read(2))\n",
        "hist_stack.append(raster_hist.read(3))\n",
        "hist_arr = np.array(hist_stack)\n",
        "\n",
        "show_hist(hist_arr, bins=50, lw=0.0, stacked=False, alpha=0.3, histtype='stepfilled', title=\"Histogram of \" + classes[3])"
      ],
      "execution_count": 0,
      "outputs": []
    },
    {
      "metadata": {
        "id": "Xs5GglnGNx_q",
        "colab_type": "code",
        "colab": {}
      },
      "cell_type": "code",
      "source": [
        "#show RGB histogram of Rhamnus Cathartica for tile 15TWK, made separately from ArcMap\n",
        "raster_hist = rasterio.open(PATH/'15TWK_Rhamnus.tif')\n",
        "print(\"File: \" + str(PATH/'15TWK_Rhamnus.tif'))\n",
        "#hist_stack = []\n",
        "#hist_stack.append(raster_hist.read(4))\n",
        "#hist_stack.append(raster_hist.read(3))\n",
        "#hist_stack.append(raster_hist.read(2))\n",
        "#hist_arr = np.array(hist_stack)\n",
        "\n",
        "#show_hist(hist_arr, bins=50, lw=0.0, stacked=False, alpha=0.3, histtype='stepfilled', title=\"RGB Histogram of Rhamnus cathartica for tile 15TWK\")"
      ],
      "execution_count": 0,
      "outputs": []
    },
    {
      "metadata": {
        "id": "EpwrWeLFN3mf",
        "colab_type": "code",
        "colab": {}
      },
      "cell_type": "code",
      "source": [
        "#show full histogram of Rhamnus Cathartica for tile 15TWK, made separately from ArcMap\n",
        "raster_hist = rasterio.open(PATH/'15TWK_Rhamnus.tif')\n",
        "print(\"File: \" + str(PATH/'15TWK_Rhamnus.tif'))\n",
        "#show_hist(raster_hist, bins=50, lw=0.0, stacked=False, alpha=0.3, histtype='stepfilled', title=\"Full Histogram of Rhamnus cathartica for tile 15TWK\")"
      ],
      "execution_count": 0,
      "outputs": []
    },
    {
      "metadata": {
        "id": "ez_pKA2L3aki",
        "colab_type": "text"
      },
      "cell_type": "markdown",
      "source": [
        "## Model"
      ]
    },
    {
      "metadata": {
        "id": "teer8Pyi3akn",
        "colab_type": "code",
        "colab": {}
      },
      "cell_type": "code",
      "source": [
        "#loading data into our model\n",
        "train_in = str(PATH/\"train\")\n",
        "\n",
        "tfms = get_transforms(do_flip=True, flip_vert=True)\n",
        "data = (ImageList.from_folder(train_in)\n",
        "        .split_by_rand_pct()\n",
        "        .label_from_folder()\n",
        "        .transform(tfms, size=(6,6))  # crops the image to 6x6, instead of squish!\n",
        "        .databunch())\n",
        "\n",
        "\n",
        "print(\"Training directory set: \" + train_in)"
      ],
      "execution_count": 0,
      "outputs": []
    },
    {
      "metadata": {
        "id": "KAL_9C-K3ak3",
        "colab_type": "code",
        "colab": {}
      },
      "cell_type": "code",
      "source": [
        "learn = cnn_learner(data, models.resnet50, metrics=error_rate)"
      ],
      "execution_count": 0,
      "outputs": []
    },
    {
      "metadata": {
        "id": "IIjZw4SK3alS",
        "colab_type": "code",
        "colab": {}
      },
      "cell_type": "code",
      "source": [
        "learn.lr_find()\n",
        "learn.recorder.plot()"
      ],
      "execution_count": 0,
      "outputs": []
    },
    {
      "metadata": {
        "id": "FUAWhjCC3alh",
        "colab_type": "code",
        "colab": {}
      },
      "cell_type": "code",
      "source": [
        "#choose low learning rate for fitting\n",
        "lr = 1e-2"
      ],
      "execution_count": 0,
      "outputs": []
    },
    {
      "metadata": {
        "id": "0PJ_rED53al8",
        "colab_type": "code",
        "colab": {}
      },
      "cell_type": "code",
      "source": [
        "learn.fit_one_cycle(100, max_lr=lr, callbacks=[\n",
        "                        SaveModelCallback(learn,\n",
        "                                          every = 'improvement',\n",
        "                                          monitor = 'error_rate',\n",
        "                                          mode = 'min',\n",
        "                                          name = 'rn50-stage1-best')])"
      ],
      "execution_count": 0,
      "outputs": []
    },
    {
      "metadata": {
        "id": "qANOOO5QnszK",
        "colab_type": "code",
        "colab": {}
      },
      "cell_type": "code",
      "source": [
        "learn.recorder.plot_lr(show_moms=True)"
      ],
      "execution_count": 0,
      "outputs": []
    },
    {
      "metadata": {
        "id": "dcvvegin3aoP",
        "colab_type": "text"
      },
      "cell_type": "markdown",
      "source": [
        "## Analyzing results & Visualization"
      ]
    },
    {
      "metadata": {
        "id": "wIUZJfOVl0Q7",
        "colab_type": "text"
      },
      "cell_type": "markdown",
      "source": [
        "#### Plot training and validation losses"
      ]
    },
    {
      "metadata": {
        "id": "2aw5t4Kh3amK",
        "colab_type": "code",
        "colab": {}
      },
      "cell_type": "code",
      "source": [
        "learn.recorder.plot_losses()"
      ],
      "execution_count": 0,
      "outputs": []
    },
    {
      "metadata": {
        "id": "fcQ1sNXlmKkI",
        "colab_type": "text"
      },
      "cell_type": "markdown",
      "source": [
        "#### Evaluation of model"
      ]
    },
    {
      "metadata": {
        "id": "2KpjfXgR3ama",
        "colab_type": "code",
        "colab": {}
      },
      "cell_type": "code",
      "source": [
        "learn.load('rn50-stage1-best')"
      ],
      "execution_count": 0,
      "outputs": []
    },
    {
      "metadata": {
        "id": "nr4P9a5Y3aml",
        "colab_type": "code",
        "colab": {}
      },
      "cell_type": "code",
      "source": [
        "interp = ClassificationInterpretation.from_learner(learn)"
      ],
      "execution_count": 0,
      "outputs": []
    },
    {
      "metadata": {
        "id": "upc_PmtanpRz",
        "colab_type": "text"
      },
      "cell_type": "markdown",
      "source": [
        "#### Top 9 misclassified samples, sorted by respective loss\n",
        "Show images in top_losses along with their prediction, actual, loss, and probability of actual class. Uses Grad-CAM overview heatmap: where the model looks to make a decision."
      ]
    },
    {
      "metadata": {
        "id": "D90QeNPXSavZ",
        "colab_type": "code",
        "colab": {}
      },
      "cell_type": "code",
      "source": [
        "interp.plot_top_losses(9, figsize=(14,14))"
      ],
      "execution_count": 0,
      "outputs": []
    },
    {
      "metadata": {
        "id": "slwtr5kcp4fI",
        "colab_type": "text"
      },
      "cell_type": "markdown",
      "source": [
        "#### Confusion matrix"
      ]
    },
    {
      "metadata": {
        "id": "BPo555IBSgXD",
        "colab_type": "code",
        "colab": {}
      },
      "cell_type": "code",
      "source": [
        "interp.plot_confusion_matrix(figsize=(5,5), cmap='Reds', dpi=70)"
      ],
      "execution_count": 0,
      "outputs": []
    },
    {
      "metadata": {
        "id": "ztc0Rq9Klbde",
        "colab_type": "code",
        "colab": {}
      },
      "cell_type": "code",
      "source": [
        "interp.most_confused(min_val=2)"
      ],
      "execution_count": 0,
      "outputs": []
    },
    {
      "metadata": {
        "id": "qkLYmuVv3apD",
        "colab_type": "text"
      },
      "cell_type": "markdown",
      "source": [
        "### Experimenting on test data"
      ]
    },
    {
      "metadata": {
        "id": "6m1rwT5Gs0ei",
        "colab_type": "text"
      },
      "cell_type": "markdown",
      "source": [
        "#### Trial run on one test file"
      ]
    },
    {
      "metadata": {
        "id": "tXSVYLSh4t73",
        "colab_type": "code",
        "colab": {}
      },
      "cell_type": "code",
      "source": [
        "#convert test files to .JPG with specific bands\n",
        "test_path = PATH/'test'\n",
        "if not os.path.isdir(Path(PATH/'testJPG')):\n",
        "  Path(PATH/'testJPG').mkdir(parents=True, exist_ok=False)\n",
        "\n",
        "in_test_files = [f for f in list(test_path.iterdir()) if '.tif' in f.name]\n",
        "for f in tqdm(in_test_files, desc=\"Processing test files\"):\n",
        "  out_name = os.path.splitext(os.path.basename(f))[0]\n",
        "  os.environ['f_in'] = str(f)\n",
        "  os.environ['f_out'] = str(PATH/'testJPG'/out_name)\n",
        "  if not Path(str(PATH/'testJPG'/out_name) + \".jpg\").is_file(): # dont convert the image if it already exists\n",
        "    !gdal_translate -of JPEG -scale -b 4 -b 8 -b 12 \"$f_in\" \"$f_out\".jpg  > test_out.log 2> /dev/null\n",
        "    print(\"Converted: \" + out_name)"
      ],
      "execution_count": 0,
      "outputs": []
    },
    {
      "metadata": {
        "id": "gB_ErrB63aqH",
        "colab_type": "code",
        "colab": {}
      },
      "cell_type": "code",
      "source": [
        "#load test data\n",
        "test_path = PATH/'testJPG'\n",
        "test_files = [f for f in list(test_path.iterdir()) if not '.xml' in f.name]\n",
        "print(len(test_files))"
      ],
      "execution_count": 0,
      "outputs": []
    },
    {
      "metadata": {
        "id": "b4rZD8BRueZ1",
        "colab_type": "code",
        "colab": {}
      },
      "cell_type": "code",
      "source": [
        "#sample image from ontario\n",
        "img = open_image(test_files[1])\n",
        "img.show()"
      ],
      "execution_count": 0,
      "outputs": []
    },
    {
      "metadata": {
        "id": "0NAFow6Euo3m",
        "colab_type": "code",
        "colab": {}
      },
      "cell_type": "code",
      "source": [
        "learn.predict(img)"
      ],
      "execution_count": 0,
      "outputs": []
    },
    {
      "metadata": {
        "id": "w6u04zey3aqG",
        "colab_type": "text"
      },
      "cell_type": "markdown",
      "source": [
        "#### Confidence and assessment of test data"
      ]
    },
    {
      "metadata": {
        "id": "qWJhiE_58ZYE",
        "colab_type": "code",
        "colab": {}
      },
      "cell_type": "code",
      "source": [
        "preds = []\n",
        "pred_classes = []\n",
        "for fn in test_files:\n",
        "    try: \n",
        "        img = open_image(fn)\n",
        "        img = img.apply_tfms(tfms[1],resize_method=ResizeMethod.SQUISH, padding_mode='zeros')\n",
        "        pred_class,pred_idx,outputs = learn.predict(img)\n",
        "        preds.append(list(to_np(outputs)))\n",
        "        pred_classes.append(str(pred_class))\n",
        "    except Exception as exc: \n",
        "        print(f'{exc}') \n",
        "        preds.append([-1,-1,-1,-1])\n",
        "        pred_classes.append('error')\n",
        "\n",
        "df = pd.DataFrame(data=preds, columns=data.classes)\n",
        "df['fname'] = [f.name for f in test_files[:len(preds)]]\n",
        "df['predicted_class'] = pred_classes\n",
        "pd.set_option('display.max_rows', 500)\n",
        "df.head(120)"
      ],
      "execution_count": 0,
      "outputs": []
    },
    {
      "metadata": {
        "id": "Tx5-7muvAvOw",
        "colab_type": "code",
        "colab": {}
      },
      "cell_type": "code",
      "source": [
        "for i in range(120):\n",
        "    img = open_image(test_path/df.iloc[i]['fname'])\n",
        "    print(\"ID\", str(i), df.iloc[i]['predicted_class'], ' category confidence:', df[df.iloc[i]['predicted_class']].iloc[i])\n",
        "    img.show()\n",
        "    plt.show()"
      ],
      "execution_count": 0,
      "outputs": []
    }
  ]
}