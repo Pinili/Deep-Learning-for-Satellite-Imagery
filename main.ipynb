{
  "nbformat": 4,
  "nbformat_minor": 0,
  "metadata": {
    "colab": {
      "name": "main.ipynb",
      "version": "0.3.2",
      "provenance": [],
      "collapsed_sections": [],
      "include_colab_link": true
    },
    "kernelspec": {
      "name": "python3",
      "display_name": "Python 3"
    },
    "accelerator": "GPU"
  },
  "cells": [
    {
      "cell_type": "markdown",
      "metadata": {
        "id": "view-in-github",
        "colab_type": "text"
      },
      "source": [
        "<a href=\"https://colab.research.google.com/github/Pinili/Deep-Learning-for-Satellite-Imagery/blob/master/main.ipynb\" target=\"_parent\"><img src=\"https://colab.research.google.com/assets/colab-badge.svg\" alt=\"Open In Colab\"/></a>"
      ]
    },
    {
      "metadata": {
        "id": "p1T-4PKl3aiy",
        "colab_type": "text"
      },
      "cell_type": "markdown",
      "source": [
        "# Automated IAS identification approach using a Machine Learning approach\n",
        "\n",
        "(Invasive alien species = IAS)\n",
        "\n",
        "This is an independent thesis-project to classify <i>Rhamnus cathartica</i> using transfer learning in Convolutional Neural Networks (CNN).\n",
        "\n",
        "All coding dependencies and datasets in this project is published under UWSpace with the original paper titled:\n",
        "<br>__Identification of Invasive Plant Species using a Machine Learning approach__. "
      ]
    },
    {
      "metadata": {
        "id": "f9MkEN-awSnz",
        "colab_type": "code",
        "outputId": "afc91465-870e-4a24-b74b-4a778305eb38",
        "colab": {
          "base_uri": "https://localhost:8080/",
          "height": 129
        }
      },
      "cell_type": "code",
      "source": [
        "## saves data on Google Drive + links to datasets\n",
        "from google.colab import drive\n",
        "drive.mount('/content/gdrive', force_remount=True)\n",
        "root_dir = \"/content/gdrive/My Drive/\"\n",
        "base_dir = root_dir + 'fastai-v3/'"
      ],
      "execution_count": 1,
      "outputs": [
        {
          "output_type": "stream",
          "text": [
            "Go to this URL in a browser: https://accounts.google.com/o/oauth2/auth?client_id=947318989803-6bn6qk8qdgf4n4g3pfee6491hc0brc4i.apps.googleusercontent.com&redirect_uri=urn%3Aietf%3Awg%3Aoauth%3A2.0%3Aoob&scope=email%20https%3A%2F%2Fwww.googleapis.com%2Fauth%2Fdocs.test%20https%3A%2F%2Fwww.googleapis.com%2Fauth%2Fdrive%20https%3A%2F%2Fwww.googleapis.com%2Fauth%2Fdrive.photos.readonly%20https%3A%2F%2Fwww.googleapis.com%2Fauth%2Fpeopleapi.readonly&response_type=code\n",
            "\n",
            "Enter your authorization code:\n",
            "··········\n",
            "Mounted at /content/gdrive\n"
          ],
          "name": "stdout"
        }
      ]
    },
    {
      "metadata": {
        "id": "YK-77IW7w4Vr",
        "colab_type": "code",
        "outputId": "663e5835-154b-428d-cb30-25a6be604631",
        "colab": {
          "base_uri": "https://localhost:8080/",
          "height": 35
        }
      },
      "cell_type": "code",
      "source": [
        "!ls"
      ],
      "execution_count": 2,
      "outputs": [
        {
          "output_type": "stream",
          "text": [
            "gdrive\tsample_data\n"
          ],
          "name": "stdout"
        }
      ]
    },
    {
      "metadata": {
        "id": "goqXWghz38l0",
        "colab_type": "code",
        "outputId": "3d38dc65-4b76-49f9-dc00-053e633740c9",
        "colab": {
          "base_uri": "https://localhost:8080/",
          "height": 54
        }
      },
      "cell_type": "code",
      "source": [
        "## install latest version, but will cause conflicting import errors with old fastai versions\n",
        " !curl -s https://course.fast.ai/setup/colab | bash\n",
        "\n",
        "## uncomment to install old version of fastai\n",
        "## !pip install fastai==0.7.0\n",
        "## !pip install torchtext==0.2.3\n"
      ],
      "execution_count": 3,
      "outputs": [
        {
          "output_type": "stream",
          "text": [
            "Updating fastai...\n",
            "Done.\n"
          ],
          "name": "stdout"
        }
      ]
    },
    {
      "metadata": {
        "id": "-AA4-bP4FJM8",
        "colab_type": "code",
        "outputId": "9c693555-2d0e-4a57-c9fa-befed030dc5d",
        "colab": {
          "base_uri": "https://localhost:8080/",
          "height": 1007
        }
      },
      "cell_type": "code",
      "source": [
        "## install extra dependencies\n",
        "!pip install rasterio    #used for transform images into JPG format, when needed, and select bands\n",
        "!pip install sat-search  #used to easily obtain Sentinel-2A data - Link: https://github.com/sat-utils"
      ],
      "execution_count": 4,
      "outputs": [
        {
          "output_type": "stream",
          "text": [
            "Collecting rasterio\n",
            "\u001b[?25l  Downloading https://files.pythonhosted.org/packages/77/df/a714d0cea5793e6eff04f7a04c7a0820d2dc2f7c18f0dfd7cdc7eea3faa3/rasterio-1.0.22-cp36-cp36m-manylinux1_x86_64.whl (19.7MB)\n",
            "\u001b[K    100% |████████████████████████████████| 19.7MB 2.0MB/s \n",
            "\u001b[?25hRequirement already satisfied: attrs in /usr/local/lib/python3.6/dist-packages (from rasterio) (19.1.0)\n",
            "Requirement already satisfied: click<8,>=4.0 in /usr/local/lib/python3.6/dist-packages (from rasterio) (7.0)\n",
            "Collecting cligj>=0.5 (from rasterio)\n",
            "  Downloading https://files.pythonhosted.org/packages/e4/be/30a58b4b0733850280d01f8bd132591b4668ed5c7046761098d665ac2174/cligj-0.5.0-py3-none-any.whl\n",
            "Requirement already satisfied: numpy in /usr/local/lib/python3.6/dist-packages (from rasterio) (1.16.2)\n",
            "Collecting click-plugins (from rasterio)\n",
            "  Downloading https://files.pythonhosted.org/packages/e9/da/824b92d9942f4e472702488857914bdd50f73021efea15b4cad9aca8ecef/click_plugins-1.1.1-py2.py3-none-any.whl\n",
            "Collecting affine (from rasterio)\n",
            "  Downloading https://files.pythonhosted.org/packages/56/5d/6877929932d17850fa4903d0db8233ec8ed35aab7ceae96fa44ea6d479bd/affine-2.2.2-py2.py3-none-any.whl\n",
            "Collecting snuggs>=1.4.1 (from rasterio)\n",
            "  Downloading https://files.pythonhosted.org/packages/a5/8a/abb0803f05feb4401ab9e4c776ce11f0048b6cb0f2d84ace97cd93d7da04/snuggs-1.4.3-py3-none-any.whl\n",
            "Requirement already satisfied: pyparsing in /usr/local/lib/python3.6/dist-packages (from snuggs>=1.4.1->rasterio) (2.4.0)\n",
            "Installing collected packages: cligj, click-plugins, affine, snuggs, rasterio\n",
            "Successfully installed affine-2.2.2 click-plugins-1.1.1 cligj-0.5.0 rasterio-1.0.22 snuggs-1.4.3\n",
            "Collecting sat-search\n",
            "  Downloading https://files.pythonhosted.org/packages/ad/29/f84fcc14e505de7c003fa1a45be166b095c085f22ed63b47b49ef7bbc85d/sat-search-0.2.1.tar.gz\n",
            "Collecting sat-stac~=0.1.2 (from sat-search)\n",
            "  Downloading https://files.pythonhosted.org/packages/09/23/7323fd9a33049279b37d58090fe86577175287fca21c9a5fa43630f59269/sat-stac-0.1.2.tar.gz\n",
            "Collecting requests>=2.19.1 (from sat-stac~=0.1.2->sat-search)\n",
            "\u001b[?25l  Downloading https://files.pythonhosted.org/packages/7d/e3/20f3d364d6c8e5d2353c72a67778eb189176f08e873c9900e10c0287b84b/requests-2.21.0-py2.py3-none-any.whl (57kB)\n",
            "\u001b[K    100% |████████████████████████████████| 61kB 13.6MB/s \n",
            "\u001b[?25hCollecting python-dateutil~=2.7.5 (from sat-stac~=0.1.2->sat-search)\n",
            "\u001b[?25l  Downloading https://files.pythonhosted.org/packages/74/68/d87d9b36af36f44254a8d512cbfc48369103a3b9e474be9bdfe536abfc45/python_dateutil-2.7.5-py2.py3-none-any.whl (225kB)\n",
            "\u001b[K    100% |████████████████████████████████| 235kB 25.9MB/s \n",
            "\u001b[?25hRequirement already satisfied: urllib3<1.25,>=1.21.1 in /usr/local/lib/python3.6/dist-packages (from requests>=2.19.1->sat-stac~=0.1.2->sat-search) (1.22)\n",
            "Requirement already satisfied: certifi>=2017.4.17 in /usr/local/lib/python3.6/dist-packages (from requests>=2.19.1->sat-stac~=0.1.2->sat-search) (2019.3.9)\n",
            "Requirement already satisfied: idna<2.9,>=2.5 in /usr/local/lib/python3.6/dist-packages (from requests>=2.19.1->sat-stac~=0.1.2->sat-search) (2.6)\n",
            "Requirement already satisfied: chardet<3.1.0,>=3.0.2 in /usr/local/lib/python3.6/dist-packages (from requests>=2.19.1->sat-stac~=0.1.2->sat-search) (3.0.4)\n",
            "Requirement already satisfied: six>=1.5 in /usr/local/lib/python3.6/dist-packages (from python-dateutil~=2.7.5->sat-stac~=0.1.2->sat-search) (1.11.0)\n",
            "Building wheels for collected packages: sat-search, sat-stac\n",
            "  Building wheel for sat-search (setup.py) ... \u001b[?25ldone\n",
            "\u001b[?25h  Stored in directory: /root/.cache/pip/wheels/9c/59/4d/591519a4f416d5fc87b2823e424b7ec2930623b06c3e25e76e\n",
            "  Building wheel for sat-stac (setup.py) ... \u001b[?25ldone\n",
            "\u001b[?25h  Stored in directory: /root/.cache/pip/wheels/be/8d/49/43673c9c16ce8427f1b3a9441cd751b07e25e099b59e01a8f4\n",
            "Successfully built sat-search sat-stac\n",
            "\u001b[31mgoogle-colab 1.0.0 has requirement requests~=2.18.0, but you'll have requests 2.21.0 which is incompatible.\u001b[0m\n",
            "\u001b[31mdatascience 0.10.6 has requirement folium==0.2.1, but you'll have folium 0.8.3 which is incompatible.\u001b[0m\n",
            "\u001b[31malbumentations 0.1.12 has requirement imgaug<0.2.7,>=0.2.5, but you'll have imgaug 0.2.8 which is incompatible.\u001b[0m\n",
            "Installing collected packages: requests, python-dateutil, sat-stac, sat-search\n",
            "  Found existing installation: requests 2.18.4\n",
            "    Uninstalling requests-2.18.4:\n",
            "      Successfully uninstalled requests-2.18.4\n",
            "  Found existing installation: python-dateutil 2.5.3\n",
            "    Uninstalling python-dateutil-2.5.3:\n",
            "      Successfully uninstalled python-dateutil-2.5.3\n",
            "Successfully installed python-dateutil-2.7.5 requests-2.21.0 sat-search-0.2.1 sat-stac-0.1.2\n"
          ],
          "name": "stdout"
        },
        {
          "output_type": "display_data",
          "data": {
            "application/vnd.colab-display-data+json": {
              "pip_warning": {
                "packages": [
                  "dateutil",
                  "requests"
                ]
              }
            }
          },
          "metadata": {
            "tags": []
          }
        }
      ]
    },
    {
      "metadata": {
        "id": "m9tDeTQH3ai8",
        "colab_type": "code",
        "colab": {}
      },
      "cell_type": "code",
      "source": [
        "%reload_ext autoreload\n",
        "%autoreload 2\n",
        "%matplotlib inline"
      ],
      "execution_count": 0,
      "outputs": []
    },
    {
      "metadata": {
        "id": "csqNSVuR3ajR",
        "colab_type": "code",
        "colab": {}
      },
      "cell_type": "code",
      "source": [
        "## uncomment below to import fastai v0.7 packages instead\n",
        "## from fastai.imports import *\n",
        "## from fastai.conv_learner import *\n",
        "## from fastai.model import *\n",
        "## from fastai.plots import *\n",
        "\n",
        "\n",
        "## import fastai v1 packages needed for image classification\n",
        "from fastai.vision import *\n",
        "from fastai.metrics import error_rate\n",
        "\n",
        "## import rasterio + plotting\n",
        "import rasterio\n",
        "from rasterio import plot\n",
        "import matplotlib.pyplot as plt\n",
        "\n"
      ],
      "execution_count": 0,
      "outputs": []
    },
    {
      "metadata": {
        "id": "irxDmmKzGB41",
        "colab_type": "code",
        "colab": {}
      },
      "cell_type": "code",
      "source": [
        "!ls \"/content/gdrive/My Drive\"\n"
      ],
      "execution_count": 0,
      "outputs": []
    },
    {
      "metadata": {
        "id": "tP3XtfGy3aje",
        "colab_type": "code",
        "colab": {}
      },
      "cell_type": "code",
      "source": [
        "root_dir = \"/content/gdrive/My Drive/\"\n",
        "base_dir = root_dir + 'fastai-v3/'\n",
        "path = Path(base_dir + 'GEOG490data/')\n",
        "dest = path\n",
        "dest.mkdir(parents=True, exist_ok=True)\n",
        "\n",
        "train_path = path/'train'\n",
        "classes = [str(f).split('/')[-1] for f in list(train_path.iterdir())]\n",
        "\n",
        "#path to bands??\n",
        "#PATH = Path('/home/shakur/GeoProjects/EuroSat/Bands/')\n",
        "#train_path = PATH/'train'\n",
        "#classes = [str(f).split('/')[-1] for f in list(train_path.iterdir())]"
      ],
      "execution_count": 0,
      "outputs": []
    },
    {
      "metadata": {
        "id": "SrSPHjYm3ajs",
        "colab_type": "text"
      },
      "cell_type": "markdown",
      "source": [
        "## Visualization"
      ]
    },
    {
      "metadata": {
        "id": "HZljyTRA3ajx",
        "colab_type": "text"
      },
      "cell_type": "markdown",
      "source": [
        "#### Classes and Size"
      ]
    },
    {
      "metadata": {
        "id": "Qcj46tae3aj0",
        "colab_type": "code",
        "outputId": "ac895da5-ab01-4e34-e7d6-f6872d7e4743",
        "colab": {
          "base_uri": "https://localhost:8080/",
          "height": 514
        }
      },
      "cell_type": "code",
      "source": [
        "files = []\n",
        "\n",
        "for i in classes:\n",
        "    paths =train_path/i\n",
        "    files.append(list(paths.iterdir())[0])\n",
        "classes_num = {}\n",
        "for i in classes:\n",
        "   \n",
        "    folders = train_path/i\n",
        "    classes_num[i] = len(list(folders.iterdir()))\n",
        "    print(f'{i} class has {len(list(folders.iterdir()))}')\n",
        "plt.figure(figsize=(15,6))\n",
        "plt.bar(classes_num.keys(), classes_num.values(), color='green')\n",
        "plt.title('Land Use Classes & Size', fontsize=16)\n",
        "plt.xlabel('Classes', fontsize=14)\n",
        "plt.ylabel('Size', fontsize=14)\n",
        "plt.tight_layout()\n",
        "plt.savefig('classes.jpg')"
      ],
      "execution_count": 14,
      "outputs": [
        {
          "output_type": "stream",
          "text": [
            "Rhamnus_cathartica class has 421\n",
            "Highway class has 100\n",
            "Residential class has 100\n",
            "River class has 100\n"
          ],
          "name": "stdout"
        },
        {
          "output_type": "display_data",
          "data": {
            "image/png": "[encoded data removed]",
            "text/plain": [
              "<Figure size 1080x432 with 1 Axes>"
            ]
          },
          "metadata": {
            "tags": []
          }
        }
      ]
    },
    {
      "metadata": {
        "id": "wplHvbXpEjJ7",
        "colab_type": "code",
        "colab": {
          "base_uri": "https://localhost:8080/",
          "height": 35
        },
        "outputId": "3e4b0bef-56bb-46be-b152-cc35dd020b1a"
      },
      "cell_type": "code",
      "source": [
        "temp_dataset = rasterio.open(files[0])\n",
        "temp_dataset.indexes"
      ],
      "execution_count": 19,
      "outputs": [
        {
          "output_type": "execute_result",
          "data": {
            "text/plain": [
              "(1, 2, 3, 4, 5, 6, 7, 8, 9, 10, 11, 12, 13)"
            ]
          },
          "metadata": {
            "tags": []
          },
          "execution_count": 19
        }
      ]
    },
    {
      "metadata": {
        "id": "rRjxODHF3akG",
        "colab_type": "text"
      },
      "cell_type": "markdown",
      "source": [
        "#### Images"
      ]
    },
    {
      "metadata": {
        "id": "GMhLSseI3akJ",
        "colab_type": "code",
        "outputId": "0bff31a7-387e-4894-ebf8-fb748a696b66",
        "colab": {
          "base_uri": "https://localhost:8080/",
          "height": 504
        }
      },
      "cell_type": "code",
      "source": [
        "fig = plt.figure(figsize=(12,10))\n",
        "\n",
        "\n",
        "\n",
        "ax1 = plt.subplot(331);plt.axis('off');plot.show((rasterio.open(files[0]).read(4)), ax=ax1, title=classes[0])\n",
        "ax2 = plt.subplot(332);plt.axis('off');plot.show((rasterio.open(files[1]).read(4)), ax=ax2, title=classes[1])\n",
        "ax3 = plt.subplot(333);plt.axis('off');plot.show((rasterio.open(files[2]).read(4)), ax=ax3, title=classes[2])\n",
        "\n",
        "ax1 = plt.subplot(334);plt.axis('off');plot.show((rasterio.open(files[3]).read(4)), ax=ax1, title=classes[3])\n",
        "#ax2 = plt.subplot(335);plt.axis('off');plot.show((rasterio.open(files[4])), ax=ax2, title=classes[4])\n",
        "#ax3 = plt.subplot(336);plt.axis('off');plot.show((rasterio.open(files[5])), ax=ax3, title=classes[5])\n",
        "\n",
        "#ax1 = plt.subplot(337);plt.axis('off');plot.show((rasterio.open(files[6])), ax=ax1, title=classes[6])\n",
        "#ax2 = plt.subplot(338);plt.axis('off');plot.show((rasterio.open(files[7])), ax=ax2, title=classes[7])\n",
        "#ax3 = plt.subplot(339);plt.axis('off');plot.show((rasterio.open(files[8])), ax=ax3, title=classes[8])\n",
        "\n",
        "plt.tight_layout()"
      ],
      "execution_count": 23,
      "outputs": [
        {
          "output_type": "display_data",
          "data": {
            "image/png": "[encoded data removed]",
            "text/plain": [
              "<Figure size 864x720 with 4 Axes>"
            ]
          },
          "metadata": {
            "tags": []
          }
        }
      ]
    },
    {
      "metadata": {
        "id": "ez_pKA2L3aki",
        "colab_type": "text"
      },
      "cell_type": "markdown",
      "source": [
        "## Model"
      ]
    },
    {
      "metadata": {
        "id": "teer8Pyi3akn",
        "colab_type": "code",
        "colab": {
          "base_uri": "https://localhost:8080/",
          "height": 209
        },
        "outputId": "eb455741-3710-48f9-9179-ed6c196f31f7"
      },
      "cell_type": "code",
      "source": [
        "sz = 224\n",
        "arch=resnet50\n",
        "data = ImageClassifierData.from_paths(PATH, tfms=tfms_from_model(arch, sz))"
      ],
      "execution_count": 24,
      "outputs": [
        {
          "output_type": "error",
          "ename": "NameError",
          "evalue": "ignored",
          "traceback": [
            "\u001b[0;31m---------------------------------------------------------------------------\u001b[0m",
            "\u001b[0;31mNameError\u001b[0m                                 Traceback (most recent call last)",
            "\u001b[0;32m<ipython-input-24-b5bffaaebcd5>\u001b[0m in \u001b[0;36m<module>\u001b[0;34m()\u001b[0m\n\u001b[1;32m      1\u001b[0m \u001b[0msz\u001b[0m \u001b[0;34m=\u001b[0m \u001b[0;36m224\u001b[0m\u001b[0;34m\u001b[0m\u001b[0;34m\u001b[0m\u001b[0m\n\u001b[0;32m----> 2\u001b[0;31m \u001b[0march\u001b[0m\u001b[0;34m=\u001b[0m\u001b[0mresnet50\u001b[0m\u001b[0;34m\u001b[0m\u001b[0;34m\u001b[0m\u001b[0m\n\u001b[0m\u001b[1;32m      3\u001b[0m \u001b[0mdata\u001b[0m \u001b[0;34m=\u001b[0m \u001b[0mImageClassifierData\u001b[0m\u001b[0;34m.\u001b[0m\u001b[0mfrom_paths\u001b[0m\u001b[0;34m(\u001b[0m\u001b[0mPATH\u001b[0m\u001b[0;34m,\u001b[0m \u001b[0mtfms\u001b[0m\u001b[0;34m=\u001b[0m\u001b[0mtfms_from_model\u001b[0m\u001b[0;34m(\u001b[0m\u001b[0march\u001b[0m\u001b[0;34m,\u001b[0m \u001b[0msz\u001b[0m\u001b[0;34m)\u001b[0m\u001b[0;34m)\u001b[0m\u001b[0;34m\u001b[0m\u001b[0;34m\u001b[0m\u001b[0m\n",
            "\u001b[0;31mNameError\u001b[0m: name 'resnet50' is not defined"
          ]
        }
      ]
    },
    {
      "metadata": {
        "id": "KAL_9C-K3ak3",
        "colab_type": "code",
        "colab": {}
      },
      "cell_type": "code",
      "source": [
        "learn = cnn_learner.pretrained(arch, data, precompute=True)"
      ],
      "execution_count": 0,
      "outputs": []
    },
    {
      "metadata": {
        "id": "IIjZw4SK3alS",
        "colab_type": "code",
        "colab": {}
      },
      "cell_type": "code",
      "source": [
        "learn.fit(0.001, 2)"
      ],
      "execution_count": 0,
      "outputs": []
    },
    {
      "metadata": {
        "id": "FUAWhjCC3alh",
        "colab_type": "code",
        "colab": {}
      },
      "cell_type": "code",
      "source": [
        "lrf=learn.lr_find(start_lr=1e-5, end_lr=1e-1)"
      ],
      "execution_count": 0,
      "outputs": []
    },
    {
      "metadata": {
        "id": "-U8vOAOO3alt",
        "colab_type": "code",
        "colab": {}
      },
      "cell_type": "code",
      "source": [
        "learn.sched.plot_lr()"
      ],
      "execution_count": 0,
      "outputs": []
    },
    {
      "metadata": {
        "id": "0PJ_rED53al8",
        "colab_type": "code",
        "colab": {}
      },
      "cell_type": "code",
      "source": [
        "learn.sched.plot()"
      ],
      "execution_count": 0,
      "outputs": []
    },
    {
      "metadata": {
        "id": "2aw5t4Kh3amK",
        "colab_type": "code",
        "colab": {}
      },
      "cell_type": "code",
      "source": [
        "learn.fit(1e-5, 3, cycle_len=1)\n"
      ],
      "execution_count": 0,
      "outputs": []
    },
    {
      "metadata": {
        "id": "2KpjfXgR3ama",
        "colab_type": "code",
        "colab": {}
      },
      "cell_type": "code",
      "source": [
        "learn.fit(1e-5, 3, cycle_len=1, cycle_mult=2)"
      ],
      "execution_count": 0,
      "outputs": []
    },
    {
      "metadata": {
        "id": "nr4P9a5Y3aml",
        "colab_type": "code",
        "colab": {}
      },
      "cell_type": "code",
      "source": [
        "learn.precompute = False \n",
        "learn.fit(1e-5, 3, cycle_len=1, cycle_mult=2)"
      ],
      "execution_count": 0,
      "outputs": []
    },
    {
      "metadata": {
        "id": "hdPF522r3anN",
        "colab_type": "code",
        "colab": {}
      },
      "cell_type": "code",
      "source": [
        "lr = 1e-4\n",
        "lrs = np.array([lr/12,lr/6,lr])\n",
        "learn.fit(lrs, 2, cycle_len=1, cycle_mult=2) "
      ],
      "execution_count": 0,
      "outputs": []
    },
    {
      "metadata": {
        "id": "LypCnbnw3ani",
        "colab_type": "code",
        "colab": {}
      },
      "cell_type": "code",
      "source": [
        "learn.unfreeze()"
      ],
      "execution_count": 0,
      "outputs": []
    },
    {
      "metadata": {
        "id": "1vqkwVSV3anx",
        "colab_type": "code",
        "colab": {}
      },
      "cell_type": "code",
      "source": [
        "learn.fit(lrs, 3, cycle_len=1, cycle_mult=2) "
      ],
      "execution_count": 0,
      "outputs": []
    },
    {
      "metadata": {
        "id": "ECXFQ5-a3aoF",
        "colab_type": "code",
        "colab": {}
      },
      "cell_type": "code",
      "source": [
        "learn.fit(lrs, 2, cycle_len=1, cycle_mult=2) "
      ],
      "execution_count": 0,
      "outputs": []
    },
    {
      "metadata": {
        "id": "dcvvegin3aoP",
        "colab_type": "text"
      },
      "cell_type": "markdown",
      "source": [
        "## Analyzing results & Visualization"
      ]
    },
    {
      "metadata": {
        "id": "Qav2Hksk3aoR",
        "colab_type": "code",
        "colab": {}
      },
      "cell_type": "code",
      "source": [
        "log_preds,y = learn.TTA()\n",
        "probs = np.mean(np.exp(log_preds),0)"
      ],
      "execution_count": 0,
      "outputs": []
    },
    {
      "metadata": {
        "id": "Mty2L6923aoc",
        "colab_type": "code",
        "colab": {}
      },
      "cell_type": "code",
      "source": [
        "log_preds = learn.predict()\n",
        "preds = np.argmax(log_preds, axis=1)\n",
        "preds"
      ],
      "execution_count": 0,
      "outputs": []
    },
    {
      "metadata": {
        "id": "zAIvJvGJ3aom",
        "colab_type": "code",
        "colab": {}
      },
      "cell_type": "code",
      "source": [
        "data.val_ds.fnames[0]"
      ],
      "execution_count": 0,
      "outputs": []
    },
    {
      "metadata": {
        "id": "qkLYmuVv3apD",
        "colab_type": "text"
      },
      "cell_type": "markdown",
      "source": [
        "### Invidual Predictions"
      ]
    },
    {
      "metadata": {
        "id": "p6AU5sKk3apG",
        "colab_type": "code",
        "colab": {}
      },
      "cell_type": "code",
      "source": [
        "classes_dict = dict(enumerate(data.classes))\n",
        "classes_dict"
      ],
      "execution_count": 0,
      "outputs": []
    },
    {
      "metadata": {
        "id": "1SZNFngt3apW",
        "colab_type": "code",
        "colab": {}
      },
      "cell_type": "code",
      "source": [
        "fn = data.val_ds.fnames[0]\n",
        "pic1 = rasterio.open(str(PATH/fn))\n",
        "plt.axis('off')\n",
        "plot.show(pic1)"
      ],
      "execution_count": 0,
      "outputs": []
    },
    {
      "metadata": {
        "id": "UOSqFAoL3apf",
        "colab_type": "code",
        "colab": {}
      },
      "cell_type": "code",
      "source": [
        "trn_tfms, val_tfms = tfms_from_model(arch, sz)\n",
        "ds = FilesIndexArrayDataset([fn], np.array([0]), val_tfms, PATH)\n",
        "dl = DataLoader(ds)\n",
        "preds = learn.predict_dl(dl)\n",
        "print(classes_dict[np.argmax(preds)] == 'AnnualCrop')\n",
        "np.argmax(preds), classes_dict[np.argmax(preds)]"
      ],
      "execution_count": 0,
      "outputs": []
    },
    {
      "metadata": {
        "id": "odkPI1873apo",
        "colab_type": "code",
        "colab": {}
      },
      "cell_type": "code",
      "source": [
        "data.val_ds.fnames[2900]"
      ],
      "execution_count": 0,
      "outputs": []
    },
    {
      "metadata": {
        "id": "zgPwCcY13ap0",
        "colab_type": "code",
        "colab": {}
      },
      "cell_type": "code",
      "source": [
        "fn = data.val_ds.fnames[2900]\n",
        "pic2 = rasterio.open(str(PATH/fn))\n",
        "plt.axis('off')\n",
        "plot.show(pic2)"
      ],
      "execution_count": 0,
      "outputs": []
    },
    {
      "metadata": {
        "id": "lm2vPGZs3ap9",
        "colab_type": "code",
        "colab": {}
      },
      "cell_type": "code",
      "source": [
        "trn_tfms, val_tfms = tfms_from_model(arch, sz)\n",
        "ds = FilesIndexArrayDataset([fn], np.array([2900]), val_tfms, PATH)\n",
        "dl = DataLoader(ds)\n",
        "preds = learn.predict_dl(dl)\n",
        "print(classes_dict[np.argmax(preds)] == 'Pasture')\n",
        "np.argmax(preds), classes_dict[np.argmax(preds)]"
      ],
      "execution_count": 0,
      "outputs": []
    },
    {
      "metadata": {
        "id": "w6u04zey3aqG",
        "colab_type": "text"
      },
      "cell_type": "markdown",
      "source": [
        "### Confusion Matrix"
      ]
    },
    {
      "metadata": {
        "id": "gB_ErrB63aqH",
        "colab_type": "code",
        "colab": {}
      },
      "cell_type": "code",
      "source": [
        "multi_preds = learn.predict()\n",
        "preds = np.argmax(multi_preds, axis=1)\n",
        "preds"
      ],
      "execution_count": 0,
      "outputs": []
    },
    {
      "metadata": {
        "id": "z4613SZy3aqN",
        "colab_type": "code",
        "colab": {}
      },
      "cell_type": "code",
      "source": [
        "from sklearn.metrics import confusion_matrix\n",
        "cm = confusion_matrix(y, preds)"
      ],
      "execution_count": 0,
      "outputs": []
    },
    {
      "metadata": {
        "id": "0WZEmtV93aqd",
        "colab_type": "code",
        "colab": {}
      },
      "cell_type": "code",
      "source": [
        "plot_confusion_matrix(cm, data.classes, cmap='Reds',figsize=(12,6))\n",
        "plt.tight_layout()"
      ],
      "execution_count": 0,
      "outputs": []
    },
    {
      "metadata": {
        "id": "FGvSChZy3aqs",
        "colab_type": "code",
        "colab": {}
      },
      "cell_type": "code",
      "source": [
        ""
      ],
      "execution_count": 0,
      "outputs": []
    }
  ]
}